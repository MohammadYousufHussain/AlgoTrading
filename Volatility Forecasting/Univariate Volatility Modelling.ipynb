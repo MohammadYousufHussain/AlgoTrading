{
 "cells": [
  {
   "cell_type": "markdown",
   "metadata": {},
   "source": [
    "# ARCH Modelling"
   ]
  },
  {
   "cell_type": "markdown",
   "metadata": {},
   "source": [
    "ARCH models are commonly employed in modeling financial time series that exhibit time-varying volatility clustering, i.e. periods of swings interspersed with periods of relative calm. ARCH-type models are sometimes considered to be in the family of stochastic volatility models, although this is strictly incorrect since at time t the volatility is completely pre-determined (deterministic) given previous values.\n",
    "\n",
    "In econometrics, the autoregressive conditional heteroskedasticity (ARCH) model is a statistical model for time series data that describes the variance of the current error term or innovation as a function of the actual sizes of the previous time periods' error terms."
   ]
  },
  {
   "cell_type": "markdown",
   "metadata": {},
   "source": [
    "Credits: Bash Tage \n",
    "\n",
    "Source: https://github.com/bashtage/arch\n"
   ]
  },
  {
   "cell_type": "code",
   "execution_count": 52,
   "metadata": {
    "collapsed": true
   },
   "outputs": [],
   "source": [
    "import warnings\n",
    "warnings.simplefilter('ignore')\n",
    "\n",
    "%matplotlib inline\n",
    "import seaborn\n",
    "#import matplotlib.pyplot as plt\n",
    "seaborn.mpl.rcParams['figure.figsize'] = (10.0, 6.0)\n",
    "seaborn.mpl.rcParams['savefig.dpi'] = 90\n",
    "import pandas as pd\n",
    "from datetime import datetime"
   ]
  },
  {
   "cell_type": "markdown",
   "metadata": {},
   "source": [
    "### Import Data"
   ]
  },
  {
   "cell_type": "code",
   "execution_count": 63,
   "metadata": {
    "collapsed": true
   },
   "outputs": [],
   "source": [
    "input_data = pd.read_csv('dataset/YM_170602_180123_1min.csv')\n",
    "adjusted_data = input_data.drop(['Unnamed: 0'], axis = 1)\n",
    "#reindexed_data = adjusted_data.set_index('date')\n",
    "#close = reindexed_data['close']\n",
    "close = adjusted_data['close']\n",
    "returns = 100*close.pct_change().dropna()"
   ]
  },
  {
   "cell_type": "code",
   "execution_count": 64,
   "metadata": {},
   "outputs": [
    {
     "data": {
      "text/html": [
       "<div>\n",
       "<style>\n",
       "    .dataframe thead tr:only-child th {\n",
       "        text-align: right;\n",
       "    }\n",
       "\n",
       "    .dataframe thead th {\n",
       "        text-align: left;\n",
       "    }\n",
       "\n",
       "    .dataframe tbody tr th {\n",
       "        vertical-align: top;\n",
       "    }\n",
       "</style>\n",
       "<table border=\"1\" class=\"dataframe\">\n",
       "  <thead>\n",
       "    <tr style=\"text-align: right;\">\n",
       "      <th></th>\n",
       "      <th>date</th>\n",
       "      <th>open</th>\n",
       "      <th>high</th>\n",
       "      <th>low</th>\n",
       "      <th>close</th>\n",
       "      <th>volume</th>\n",
       "      <th>barCount</th>\n",
       "      <th>average</th>\n",
       "      <th>onlyDate</th>\n",
       "      <th>time</th>\n",
       "    </tr>\n",
       "  </thead>\n",
       "  <tbody>\n",
       "    <tr>\n",
       "      <th>0</th>\n",
       "      <td>2017-06-02 21:30:00</td>\n",
       "      <td>21060.0</td>\n",
       "      <td>21060.0</td>\n",
       "      <td>21060.0</td>\n",
       "      <td>21060.0</td>\n",
       "      <td>0</td>\n",
       "      <td>0</td>\n",
       "      <td>21060.0</td>\n",
       "      <td>2017-06-02</td>\n",
       "      <td>21:30:00</td>\n",
       "    </tr>\n",
       "    <tr>\n",
       "      <th>1</th>\n",
       "      <td>2017-06-02 21:31:00</td>\n",
       "      <td>21060.0</td>\n",
       "      <td>21060.0</td>\n",
       "      <td>21060.0</td>\n",
       "      <td>21060.0</td>\n",
       "      <td>0</td>\n",
       "      <td>0</td>\n",
       "      <td>21060.0</td>\n",
       "      <td>2017-06-02</td>\n",
       "      <td>21:31:00</td>\n",
       "    </tr>\n",
       "    <tr>\n",
       "      <th>2</th>\n",
       "      <td>2017-06-02 21:32:00</td>\n",
       "      <td>21060.0</td>\n",
       "      <td>21060.0</td>\n",
       "      <td>21060.0</td>\n",
       "      <td>21060.0</td>\n",
       "      <td>0</td>\n",
       "      <td>0</td>\n",
       "      <td>21060.0</td>\n",
       "      <td>2017-06-02</td>\n",
       "      <td>21:32:00</td>\n",
       "    </tr>\n",
       "    <tr>\n",
       "      <th>3</th>\n",
       "      <td>2017-06-02 21:33:00</td>\n",
       "      <td>21060.0</td>\n",
       "      <td>21060.0</td>\n",
       "      <td>21060.0</td>\n",
       "      <td>21060.0</td>\n",
       "      <td>0</td>\n",
       "      <td>0</td>\n",
       "      <td>21060.0</td>\n",
       "      <td>2017-06-02</td>\n",
       "      <td>21:33:00</td>\n",
       "    </tr>\n",
       "    <tr>\n",
       "      <th>4</th>\n",
       "      <td>2017-06-02 21:34:00</td>\n",
       "      <td>21060.0</td>\n",
       "      <td>21060.0</td>\n",
       "      <td>21060.0</td>\n",
       "      <td>21060.0</td>\n",
       "      <td>0</td>\n",
       "      <td>0</td>\n",
       "      <td>21060.0</td>\n",
       "      <td>2017-06-02</td>\n",
       "      <td>21:34:00</td>\n",
       "    </tr>\n",
       "  </tbody>\n",
       "</table>\n",
       "</div>"
      ],
      "text/plain": [
       "                  date     open     high      low    close  volume  barCount  \\\n",
       "0  2017-06-02 21:30:00  21060.0  21060.0  21060.0  21060.0       0         0   \n",
       "1  2017-06-02 21:31:00  21060.0  21060.0  21060.0  21060.0       0         0   \n",
       "2  2017-06-02 21:32:00  21060.0  21060.0  21060.0  21060.0       0         0   \n",
       "3  2017-06-02 21:33:00  21060.0  21060.0  21060.0  21060.0       0         0   \n",
       "4  2017-06-02 21:34:00  21060.0  21060.0  21060.0  21060.0       0         0   \n",
       "\n",
       "   average    onlyDate      time  \n",
       "0  21060.0  2017-06-02  21:30:00  \n",
       "1  21060.0  2017-06-02  21:31:00  \n",
       "2  21060.0  2017-06-02  21:32:00  \n",
       "3  21060.0  2017-06-02  21:33:00  \n",
       "4  21060.0  2017-06-02  21:34:00  "
      ]
     },
     "execution_count": 64,
     "metadata": {},
     "output_type": "execute_result"
    }
   ],
   "source": [
    "adjusted_data.head()"
   ]
  },
  {
   "cell_type": "code",
   "execution_count": 59,
   "metadata": {},
   "outputs": [],
   "source": [
    "datetime_object = datetime.strptime(adjusted_data['date'][0], '%Y-%m-%d %H:%M:%S')"
   ]
  },
  {
   "cell_type": "code",
   "execution_count": 57,
   "metadata": {},
   "outputs": [
    {
     "data": {
      "text/plain": [
       "datetime.datetime(2017, 6, 2, 21, 30)"
      ]
     },
     "execution_count": 57,
     "metadata": {},
     "output_type": "execute_result"
    }
   ],
   "source": [
    "datetime_object"
   ]
  },
  {
   "cell_type": "code",
   "execution_count": 65,
   "metadata": {},
   "outputs": [
    {
     "data": {
      "image/png": "[encoded data removed]",
      "text/plain": [
       "<matplotlib.figure.Figure at 0x11fdad1d0>"
      ]
     },
     "metadata": {},
     "output_type": "display_data"
    }
   ],
   "source": [
    "figure = returns.plot()"
   ]
  },
  {
   "cell_type": "markdown",
   "metadata": {},
   "source": [
    "## Specifying Common Models"
   ]
  },
  {
   "cell_type": "markdown",
   "metadata": {},
   "source": [
    "The simplest way to specify a model is to use the model constructor arch.arch_model which can specify most common models. The simplest invocation of arch will return a model with a constant mean, GARCH(1,1) volatility process and normally distributed errors.\n",
    "\n",
    "$$ r_t  =  \\mu + \\epsilon_t$$$$\\sigma^2_t   =  \\omega + \\alpha \\epsilon_{t-1}^2 + \\beta \\sigma_{t-1}^2 $$$$\\epsilon_t  =  \\sigma_t e_t,\\,\\,\\, e_t  \\sim  N(0,1) $$\n",
    "The model is estimated by calling fit. The optional inputs iter controls the frequency of output form the optimizer, and disp controls whether convergence information is returned. The results class returned offers direct access to the estimated parameters and related quantities, as well as a summary of the estimation results."
   ]
  },
  {
   "cell_type": "markdown",
   "metadata": {},
   "source": [
    "### GARCH (with a constant mean)"
   ]
  },
  {
   "cell_type": "markdown",
   "metadata": {},
   "source": [
    "The default set of options produces a model with a constant mean, GARCH(1,1) conditional variance and normal errors."
   ]
  },
  {
   "cell_type": "code",
   "execution_count": 66,
   "metadata": {},
   "outputs": [
    {
     "name": "stdout",
     "output_type": "stream",
     "text": [
      "Optimization terminated successfully.    (Exit mode 0)\n",
      "            Current function value: -115733.49847469313\n",
      "            Iterations: 2\n",
      "            Function evaluations: 29\n",
      "            Gradient evaluations: 2\n",
      "                     Constant Mean - GARCH Model Results                      \n",
      "==============================================================================\n",
      "Dep. Variable:                  close   R-squared:                      -0.000\n",
      "Mean Model:             Constant Mean   Adj. R-squared:                 -0.000\n",
      "Vol Model:                      GARCH   Log-Likelihood:                115733.\n",
      "Distribution:                  Normal   AIC:                          -231459.\n",
      "Method:            Maximum Likelihood   BIC:                          -231424.\n",
      "                                        No. Observations:                50253\n",
      "Date:                Sat, Jan 27 2018   Df Residuals:                    50249\n",
      "Time:                        22:08:45   Df Model:                            4\n",
      "                                 Mean Model                                 \n",
      "============================================================================\n",
      "                 coef    std err          t      P>|t|      95.0% Conf. Int.\n",
      "----------------------------------------------------------------------------\n",
      "mu         5.1211e-04  1.153e-04      4.442  8.924e-06 [2.861e-04,7.381e-04]\n",
      "                              Volatility Model                              \n",
      "============================================================================\n",
      "                 coef    std err          t      P>|t|      95.0% Conf. Int.\n",
      "----------------------------------------------------------------------------\n",
      "omega      3.0193e-04  7.321e-05      4.124  3.718e-05 [1.584e-04,4.454e-04]\n",
      "alpha[1]       0.0500  4.017e-02      1.245      0.213  [-2.873e-02,  0.129]\n",
      "beta[1]        0.4500      0.207      2.172  2.985e-02   [4.394e-02,  0.856]\n",
      "============================================================================\n",
      "\n",
      "Covariance estimator: robust\n"
     ]
    }
   ],
   "source": [
    "from arch import arch_model\n",
    "am = arch_model(returns) \n",
    "res = am.fit(update_freq=5)\n",
    "print(res.summary())"
   ]
  },
  {
   "cell_type": "markdown",
   "metadata": {},
   "source": [
    "plot() can be used to quickly visualize the standardized residuals and conditional volatility."
   ]
  },
  {
   "cell_type": "code",
   "execution_count": 67,
   "metadata": {},
   "outputs": [
    {
     "data": {
      "image/png": "[encoded data removed]",
      "text/plain": [
       "<matplotlib.figure.Figure at 0x121ec40f0>"
      ]
     },
     "metadata": {},
     "output_type": "display_data"
    }
   ],
   "source": [
    "fig = res.plot(annualize='D')"
   ]
  },
  {
   "cell_type": "markdown",
   "metadata": {},
   "source": [
    "### GJR-GARCH"
   ]
  },
  {
   "cell_type": "markdown",
   "metadata": {},
   "source": [
    "Additional inputs can be used to construct other models. This example sets o to 1, which includes one lag of an asymmetric shock which transforms a GARCH model into a GJR-GARCH model with variance dynamics given by\n",
    "\n",
    "$$ sigma^2_t   =  omega + alpha epsilon_{t-1}^2 + gamma epsilon_{t-1}^2 I_{[epsilon_{t-1}<0]}+ beta sigma_{t-1}^2  $$\n",
    "\n",
    "\n",
    "where $I$ is an indicator function that takes the value 1 when its argument is true.\n",
    "\n",
    "The log likelihood improves substantially with the introduction of an asymmetric term, and the parameter estimate is highly significant."
   ]
  },
  {
   "cell_type": "code",
   "execution_count": 68,
   "metadata": {},
   "outputs": [
    {
     "name": "stdout",
     "output_type": "stream",
     "text": [
      "                   Constant Mean - GJR-GARCH Model Results                    \n",
      "==============================================================================\n",
      "Dep. Variable:                  close   R-squared:                      -0.000\n",
      "Mean Model:             Constant Mean   Adj. R-squared:                 -0.000\n",
      "Vol Model:                  GJR-GARCH   Log-Likelihood:                115951.\n",
      "Distribution:                  Normal   AIC:                          -231892.\n",
      "Method:            Maximum Likelihood   BIC:                          -231848.\n",
      "                                        No. Observations:                50253\n",
      "Date:                Sat, Jan 27 2018   Df Residuals:                    50248\n",
      "Time:                        22:18:02   Df Model:                            5\n",
      "                                 Mean Model                                 \n",
      "============================================================================\n",
      "                 coef    std err          t      P>|t|      95.0% Conf. Int.\n",
      "----------------------------------------------------------------------------\n",
      "mu         4.8041e-04  1.178e-04      4.080  4.507e-05 [2.496e-04,7.112e-04]\n",
      "                               Volatility Model                              \n",
      "=============================================================================\n",
      "                 coef    std err          t      P>|t|       95.0% Conf. Int.\n",
      "-----------------------------------------------------------------------------\n",
      "omega      3.0193e-04  1.271e-04      2.375  1.755e-02  [5.277e-05,5.511e-04]\n",
      "alpha[1]       0.0100  3.866e-02      0.259      0.796 [-6.576e-02,8.576e-02]\n",
      "gamma[1]       0.1000  7.432e-02      1.346      0.178   [-4.566e-02,  0.246]\n",
      "beta[1]        0.4400      0.162      2.714  6.644e-03      [  0.122,  0.758]\n",
      "=============================================================================\n",
      "\n",
      "Covariance estimator: robust\n"
     ]
    }
   ],
   "source": [
    "am = arch_model(returns, p=1, o=1, q=1)\n",
    "res = am.fit(update_freq=5, disp='off')\n",
    "print(res.summary())"
   ]
  },
  {
   "cell_type": "markdown",
   "metadata": {},
   "source": [
    "### TARCH/ZARCH"
   ]
  },
  {
   "cell_type": "markdown",
   "metadata": {},
   "source": [
    "TARCH (also known as ZARCH) model the volatility using absolute values. This model is specified using power=1.0 since the default power, 2, corresponds to variance processes that evolve in squares.\n",
    "\n",
    "The volatility process in a TARCH model is given by\n",
    "\n",
    "\n",
    "\n",
    "$$ sigma_t  =  omega + alpha epsilon_{t-1} + gamma epsilon_{t-1} I_{[epsilon_{t-1}<0]}+ beta sigma_{t-1} $$\n",
    "\n",
    "More general models with other powers ($\\kappa$) have volatility dynamics given by\n",
    "\n",
    "\n",
    "$$sigma_t^kappa   = omega + alpha |epsilon_{t-1}|^kappa + gamma |epsilon_{t-1}|^kappa I_{[epsilon_{t-1}<0]}+ beta sigma_{t-1}^kappa \n",
    "$$\n",
    "\n",
    "where the conditional variance is $\\left(\\sigma_t^\\kappa\\right)^{2/\\kappa}$.\n",
    "\n",
    "The TARCH model also improves the fit, although the change in the log likelihood is less dramatic."
   ]
  },
  {
   "cell_type": "code",
   "execution_count": 77,
   "metadata": {},
   "outputs": [
    {
     "name": "stdout",
     "output_type": "stream",
     "text": [
      "Iteration:      5,   Func. Count:     64,   Neg. LLF: -115617.67120937067\n",
      "Positive directional derivative for linesearch    (Exit mode 8)\n",
      "            Current function value: -115617.67102683918\n",
      "            Iterations: 9\n",
      "            Function evaluations: 64\n",
      "            Gradient evaluations: 5\n",
      "                  Constant Mean - TARCH/ZARCH Model Results                   \n",
      "==============================================================================\n",
      "Dep. Variable:                  close   R-squared:                      -0.001\n",
      "Mean Model:             Constant Mean   Adj. R-squared:                 -0.001\n",
      "Vol Model:                TARCH/ZARCH   Log-Likelihood:                115618.\n",
      "Distribution:                  Normal   AIC:                          -231225.\n",
      "Method:            Maximum Likelihood   BIC:                          -231181.\n",
      "                                        No. Observations:                50253\n",
      "Date:                Sat, Jan 27 2018   Df Residuals:                    50248\n",
      "Time:                        22:32:05   Df Model:                            5\n",
      "                                 Mean Model                                 \n",
      "============================================================================\n",
      "                 coef    std err          t      P>|t|      95.0% Conf. Int.\n",
      "----------------------------------------------------------------------------\n",
      "mu         1.0210e-03  2.094e-04      4.876  1.082e-06 [6.106e-04,1.431e-03]\n",
      "                               Volatility Model                              \n",
      "=============================================================================\n",
      "                 coef    std err          t      P>|t|       95.0% Conf. Int.\n",
      "-----------------------------------------------------------------------------\n",
      "omega          0.0123  8.480e-03      1.449      0.147 [-4.333e-03,2.891e-02]\n",
      "alpha[1]       0.0100  2.186e-02      0.458      0.647 [-3.284e-02,5.285e-02]\n",
      "gamma[1]       0.1000  4.975e-02      2.010  4.444e-02    [2.487e-03,  0.198]\n",
      "beta[1]        0.4400      0.348      1.265      0.206      [ -0.242,  1.122]\n",
      "=============================================================================\n",
      "\n",
      "Covariance estimator: robust\n",
      "\n",
      "WARNING: The optimizer did not indicate successful convergence. The message was\n",
      "Positive directional derivative for linesearch. See convergence_flag.\n"
     ]
    },
    {
     "name": "stderr",
     "output_type": "stream",
     "text": [
      "/Users/hussainmohammadyousuf/anaconda/lib/python3.6/site-packages/arch/univariate/base.py:524: ConvergenceWarning: \n",
      "The optimizer returned code 8. The message is:\n",
      "Positive directional derivative for linesearch\n",
      "See scipy.optimize.fmin_slsqp for code meaning.\n",
      "\n",
      "  ConvergenceWarning)\n"
     ]
    }
   ],
   "source": [
    "am = arch_model(returns, p=1, o=1, q=1, power=1.0)\n",
    "res = am.fit(update_freq=5)\n",
    "print(res.summary())"
   ]
  },
  {
   "cell_type": "markdown",
   "metadata": {},
   "source": [
    "### Student's T Errors"
   ]
  },
  {
   "cell_type": "markdown",
   "metadata": {},
   "source": [
    "Financial returns are often heavy tailed, and a Student's T distribution is a simple method to capture this feature. The call to arch changes the distribution from a Normal to a Students's T.\n",
    "\n",
    "The standardized residuals appear to be heavy tailed with an estimated degree of freedom near 10. The log-likelihood also shows a large increase."
   ]
  },
  {
   "cell_type": "code",
   "execution_count": 78,
   "metadata": {},
   "outputs": [
    {
     "name": "stdout",
     "output_type": "stream",
     "text": [
      "Iteration:      5,   Func. Count:     62,   Neg. LLF: 240215.27496283146\n",
      "Iteration:     10,   Func. Count:    119,   Neg. LLF: -22607.7787155081\n",
      "Iteration:     15,   Func. Count:    199,   Neg. LLF: 3068776.8422565446\n",
      "Positive directional derivative for linesearch    (Exit mode 8)\n",
      "            Current function value: 3068776.838845583\n",
      "            Iterations: 19\n",
      "            Function evaluations: 199\n",
      "            Gradient evaluations: 15\n"
     ]
    },
    {
     "name": "stderr",
     "output_type": "stream",
     "text": [
      "/Users/hussainmohammadyousuf/anaconda/lib/python3.6/site-packages/arch/univariate/base.py:524: ConvergenceWarning: \n",
      "The optimizer returned code 8. The message is:\n",
      "Positive directional derivative for linesearch\n",
      "See scipy.optimize.fmin_slsqp for code meaning.\n",
      "\n",
      "  ConvergenceWarning)\n"
     ]
    },
    {
     "name": "stdout",
     "output_type": "stream",
     "text": [
      "                     Constant Mean - TARCH/ZARCH Model Results                      \n",
      "====================================================================================\n",
      "Dep. Variable:                        close   R-squared:           -108321522268.950\n",
      "Mean Model:                   Constant Mean   Adj. R-squared:      -108321522268.950\n",
      "Vol Model:                      TARCH/ZARCH   Log-Likelihood:           -3.06878e+06\n",
      "Distribution:      Standardized Student's t   AIC:                       6.13757e+06\n",
      "Method:                  Maximum Likelihood   BIC:                       6.13762e+06\n",
      "                                              No. Observations:                50253\n",
      "Date:                      Sat, Jan 27 2018   Df Residuals:                    50247\n",
      "Time:                              22:33:45   Df Model:                            6\n",
      "                                 Mean Model                                 \n",
      "============================================================================\n",
      "                 coef    std err          t      P>|t|      95.0% Conf. Int.\n",
      "----------------------------------------------------------------------------\n",
      "mu          8087.6516     54.324    148.878      0.000 [7.981e+03,8.194e+03]\n",
      "                              Volatility Model                             \n",
      "===========================================================================\n",
      "                 coef    std err          t      P>|t|     95.0% Conf. Int.\n",
      "---------------------------------------------------------------------------\n",
      "omega          0.0616  6.213e-02      0.992      0.321 [-6.015e-02,  0.183]\n",
      "alpha[1]       0.3696      0.334      1.107      0.268    [ -0.285,  1.024]\n",
      "gamma[1]      -0.2847      0.333     -0.854      0.393    [ -0.938,  0.369]\n",
      "beta[1]        0.7879      0.472      1.668  9.525e-02    [ -0.138,  1.714]\n",
      "                              Distribution                              \n",
      "========================================================================\n",
      "                 coef    std err          t      P>|t|  95.0% Conf. Int.\n",
      "------------------------------------------------------------------------\n",
      "nu             9.9901  7.850e-02    127.263      0.000 [  9.836, 10.144]\n",
      "========================================================================\n",
      "\n",
      "Covariance estimator: robust\n",
      "\n",
      "WARNING: The optimizer did not indicate successful convergence. The message was\n",
      "Positive directional derivative for linesearch. See convergence_flag.\n"
     ]
    }
   ],
   "source": [
    "am = arch_model(returns, p=1, o=1, q=1, power=1.0, dist='StudentsT')\n",
    "res = am.fit(update_freq=5)\n",
    "print(res.summary())"
   ]
  },
  {
   "cell_type": "markdown",
   "metadata": {},
   "source": [
    "### Fixing Parameters"
   ]
  },
  {
   "cell_type": "markdown",
   "metadata": {},
   "source": [
    "In some circumstances, fixed rather than estimated parameters might be of interest. A model-result-like class can be generated using the fix() method. The class returend is identical to the usual model result class except that information about inference (standard errors, t-stats, etc) is not available.\n",
    "\n",
    "In the example, I fix the parameters to a symmetric version of the previously estimated model."
   ]
  },
  {
   "cell_type": "code",
   "execution_count": 79,
   "metadata": {},
   "outputs": [
    {
     "name": "stdout",
     "output_type": "stream",
     "text": [
      "                      Constant Mean - TARCH/ZARCH Model Results                      \n",
      "=====================================================================================\n",
      "Dep. Variable:                         close   R-squared:                          --\n",
      "Mean Model:                    Constant Mean   Adj. R-squared:                     --\n",
      "Vol Model:                       TARCH/ZARCH   Log-Likelihood:                42907.4\n",
      "Distribution:       Standardized Student's t   AIC:                          -85802.7\n",
      "Method:            User-specified Parameters   BIC:                          -85749.8\n",
      "                                               No. Observations:                50253\n",
      "Date:                       Sat, Jan 27 2018                                         \n",
      "Time:                               22:40:00                                         \n",
      "      Mean Model     \n",
      "=====================\n",
      "                 coef\n",
      "---------------------\n",
      "mu             0.0235\n",
      "   Volatility Model  \n",
      "=====================\n",
      "                 coef\n",
      "---------------------\n",
      "omega          0.0100\n",
      "alpha[1]       0.0600\n",
      "gamma[1]       0.0000\n",
      "beta[1]        0.9382\n",
      "     Distribution    \n",
      "=====================\n",
      "                 coef\n",
      "---------------------\n",
      "nu             8.0000\n",
      "=====================\n",
      "\n",
      "Results generated with user-specified parameters.\n",
      "Since the model was not estimated, there are no std. errors.\n"
     ]
    }
   ],
   "source": [
    "fixed_res = am.fix([0.0235, 0.01, 0.06, 0.0, 0.9382, 8.0])\n",
    "print(fixed_res.summary())"
   ]
  },
  {
   "cell_type": "code",
   "execution_count": 85,
   "metadata": {},
   "outputs": [
    {
     "data": {
      "text/plain": [
       "<matplotlib.axes._subplots.AxesSubplot at 0x11fe300f0>"
      ]
     },
     "execution_count": 85,
     "metadata": {},
     "output_type": "execute_result"
    },
    {
     "data": {
      "image/png": "[encoded data removed]",
      "text/plain": [
       "<matplotlib.figure.Figure at 0x11a365d68>"
      ]
     },
     "metadata": {},
     "output_type": "display_data"
    }
   ],
   "source": [
    "df = pd.concat([res.conditional_volatility,fixed_res.conditional_volatility],1)\n",
    "df.columns = ['Estimated', 'Fixed']\n",
    "df.plot()"
   ]
  },
  {
   "cell_type": "markdown",
   "metadata": {},
   "source": [
    "## Building a Model from Components"
   ]
  },
  {
   "cell_type": "markdown",
   "metadata": {},
   "source": [
    "\n",
    "Models can also be systematically assembled from the three model components:\n",
    "\n",
    "- A mean model (arch.mean)\n",
    "    - Zero mean (ZeroMean) - useful if using residuals from a model estimated separately\n",
    "    - Constant mean (ConstantMean) - common for most liquid financial assets\n",
    "    - Autoregressive (ARX) with optional exogenous regressors\n",
    "    - Heterogeneous (HARX) autoregression with optional exogenous regressors\n",
    "    - Exogenous regressors only (LS)\n",
    "- A volatility process (arch.volatility)\n",
    "    - ARCH (ARCH)\n",
    "    - GARCH (GARCH)\n",
    "    - GJR-GARCH (GARCH using o argument)\n",
    "    - TARCH/ZARCH (GARCH using power argument set to 1)\n",
    "    - Power GARCH and Asymmetric Power GARCH (GARCH using power)\n",
    "    - Exponentially Weighted Moving Average Variance with estimated coefficient (EWMAVariance)\n",
    "    - Heterogeneous ARCH (HARCH)\n",
    "    - Parameterless Models\n",
    "    - Exponentially Weighted Moving Average Variance, known as RiskMetrics (EWMAVariance)\n",
    "    - Weighted averages of EWMAs, known as the RiskMetrics 2006 methodology (RiskMetrics2006)\n",
    "- A distribution (arch.distribution)\n",
    "    - Normal (Normal)\n",
    "    - Standardized Students's T (StudentsT)"
   ]
  },
  {
   "cell_type": "markdown",
   "metadata": {},
   "source": [
    "### Mean Models"
   ]
  },
  {
   "cell_type": "markdown",
   "metadata": {},
   "source": [
    "The first choice is the mean model. For many liquid financial assets, a constant mean (or even zero) is adequate. For other series, such as inflation, a more complicated model may be required. "
   ]
  },
  {
   "cell_type": "code",
   "execution_count": 87,
   "metadata": {},
   "outputs": [
    {
     "data": {
      "image/png": "[encoded data removed]",
      "text/plain": [
       "<matplotlib.figure.Figure at 0x1240f00f0>"
      ]
     },
     "metadata": {},
     "output_type": "display_data"
    }
   ],
   "source": [
    "returns = 100*close.pct_change().dropna()\n",
    "fig = returns.plot()"
   ]
  },
  {
   "cell_type": "markdown",
   "metadata": {},
   "source": [
    "All mean models are initialized with constant variance and normal errors. For ARX models, the lags argument specifies the lags to include in the model."
   ]
  },
  {
   "cell_type": "code",
   "execution_count": 88,
   "metadata": {},
   "outputs": [
    {
     "name": "stdout",
     "output_type": "stream",
     "text": [
      "                     AR - Constant Variance Model Results                     \n",
      "==============================================================================\n",
      "Dep. Variable:                  close   R-squared:                       0.001\n",
      "Mean Model:                        AR   Adj. R-squared:                  0.000\n",
      "Vol Model:          Constant Variance   Log-Likelihood:                114916.\n",
      "Distribution:                  Normal   AIC:                          -229823.\n",
      "Method:            Maximum Likelihood   BIC:                          -229778.\n",
      "                                        No. Observations:                50241\n",
      "Date:                Sat, Jan 27 2018   Df Residuals:                    50236\n",
      "Time:                        22:50:35   Df Model:                            5\n",
      "                                  Mean Model                                 \n",
      "=============================================================================\n",
      "                 coef    std err          t      P>|t|       95.0% Conf. Int.\n",
      "-----------------------------------------------------------------------------\n",
      "Const      4.4399e-04  1.106e-04      4.016  5.919e-05  [2.273e-04,6.607e-04]\n",
      "close[1]      -0.0223  1.258e-02     -1.771  7.654e-02 [-4.694e-02,2.376e-03]\n",
      "close[3]   1.1077e-03  6.235e-03      0.178      0.859 [-1.111e-02,1.333e-02]\n",
      "close[12]  5.8928e-03  5.593e-03      1.054      0.292 [-5.069e-03,1.685e-02]\n",
      "                              Volatility Model                              \n",
      "============================================================================\n",
      "                 coef    std err          t      P>|t|      95.0% Conf. Int.\n",
      "----------------------------------------------------------------------------\n",
      "sigma2     6.0367e-04  9.542e-05      6.326  2.511e-10 [4.166e-04,7.907e-04]\n",
      "============================================================================\n",
      "\n",
      "Covariance estimator: White's Heteroskedasticity Consistent Estimator\n"
     ]
    }
   ],
   "source": [
    "from arch.univariate import ARX\n",
    "ar = ARX(returns, lags = [1, 3, 12])\n",
    "print(ar.fit().summary())"
   ]
  },
  {
   "cell_type": "markdown",
   "metadata": {},
   "source": [
    "### Volatility Processes"
   ]
  },
  {
   "cell_type": "markdown",
   "metadata": {},
   "source": [
    "Volatility processes can be added a a mean model using the volatility property. This example adds an ARCH(5) process to model volatility. The arguments iter and disp are used in fit() to suppress estimation output."
   ]
  },
  {
   "cell_type": "code",
   "execution_count": 89,
   "metadata": {},
   "outputs": [
    {
     "name": "stderr",
     "output_type": "stream",
     "text": [
      "/Users/hussainmohammadyousuf/anaconda/lib/python3.6/site-packages/arch/univariate/base.py:524: ConvergenceWarning: \n",
      "The optimizer returned code 8. The message is:\n",
      "Positive directional derivative for linesearch\n",
      "See scipy.optimize.fmin_slsqp for code meaning.\n",
      "\n",
      "  ConvergenceWarning)\n"
     ]
    },
    {
     "name": "stdout",
     "output_type": "stream",
     "text": [
      "                           AR - ARCH Model Results                            \n",
      "==============================================================================\n",
      "Dep. Variable:                  close   R-squared:                       0.000\n",
      "Mean Model:                        AR   Adj. R-squared:                  0.000\n",
      "Vol Model:                       ARCH   Log-Likelihood:                115707.\n",
      "Distribution:                  Normal   AIC:                          -231394.\n",
      "Method:            Maximum Likelihood   BIC:                          -231306.\n",
      "                                        No. Observations:                50241\n",
      "Date:                Sat, Jan 27 2018   Df Residuals:                    50231\n",
      "Time:                        22:51:45   Df Model:                           10\n",
      "                                   Mean Model                                  \n",
      "===============================================================================\n",
      "                  coef    std err          t      P>|t|        95.0% Conf. Int.\n",
      "-------------------------------------------------------------------------------\n",
      "Const       5.4211e-04  1.458e-04      3.717  2.013e-04   [2.563e-04,8.279e-04]\n",
      "close[1]       -0.0248  1.120e-02     -2.217  2.662e-02 [-4.679e-02,-2.880e-03]\n",
      "close[3]   -3.5611e-03  9.073e-03     -0.392      0.695  [-2.134e-02,1.422e-02]\n",
      "close[12]   5.5678e-03  6.928e-03      0.804      0.422  [-8.011e-03,1.915e-02]\n",
      "                               Volatility Model                              \n",
      "=============================================================================\n",
      "                 coef    std err          t      P>|t|       95.0% Conf. Int.\n",
      "-----------------------------------------------------------------------------\n",
      "omega      5.4329e-04  1.009e-04      5.386  7.214e-08  [3.456e-04,7.410e-04]\n",
      "alpha[1]       0.0200  2.706e-02      0.739      0.460 [-3.303e-02,7.303e-02]\n",
      "alpha[2]       0.0200  1.772e-02      1.128      0.259 [-1.474e-02,5.474e-02]\n",
      "alpha[3]       0.0200  4.213e-02      0.475      0.635   [-6.257e-02,  0.103]\n",
      "alpha[4]       0.0200  6.219e-02      0.322      0.748      [ -0.102,  0.142]\n",
      "alpha[5]       0.0200  3.572e-02      0.561      0.575 [-4.997e-02,9.006e-02]\n",
      "=============================================================================\n",
      "\n",
      "Covariance estimator: robust\n",
      "\n",
      "WARNING: The optimizer did not indicate successful convergence. The message was\n",
      "Positive directional derivative for linesearch. See convergence_flag.\n"
     ]
    }
   ],
   "source": [
    "from arch.univariate import ARCH, GARCH\n",
    "ar.volatility = ARCH(p=5)\n",
    "res = ar.fit(update_freq=0, disp='off')\n",
    "print(res.summary())"
   ]
  },
  {
   "cell_type": "markdown",
   "metadata": {},
   "source": [
    "\n",
    "Plotting the standardized residuals and the conditional volatility shows some large (in magnitude) errors, even when standardized."
   ]
  },
  {
   "cell_type": "code",
   "execution_count": 90,
   "metadata": {},
   "outputs": [
    {
     "data": {
      "image/png": "[encoded data removed]",
      "text/plain": [
       "<matplotlib.figure.Figure at 0x124034f60>"
      ]
     },
     "metadata": {},
     "output_type": "display_data"
    }
   ],
   "source": [
    "fig = res.plot()"
   ]
  },
  {
   "cell_type": "markdown",
   "metadata": {},
   "source": [
    "### Distributions"
   ]
  },
  {
   "cell_type": "markdown",
   "metadata": {},
   "source": [
    "\n",
    "Finally the distribution can be changed from the default normal to a standardized Student's T using the distribution property of a mean model."
   ]
  },
  {
   "cell_type": "markdown",
   "metadata": {},
   "source": [
    "The Student's t distribution improves the model, and the degree of freedom is estimated to be near 8."
   ]
  },
  {
   "cell_type": "code",
   "execution_count": 91,
   "metadata": {},
   "outputs": [
    {
     "name": "stderr",
     "output_type": "stream",
     "text": [
      "/Users/hussainmohammadyousuf/anaconda/lib/python3.6/site-packages/arch/univariate/base.py:524: ConvergenceWarning: \n",
      "The optimizer returned code 8. The message is:\n",
      "Positive directional derivative for linesearch\n",
      "See scipy.optimize.fmin_slsqp for code meaning.\n",
      "\n",
      "  ConvergenceWarning)\n"
     ]
    },
    {
     "name": "stdout",
     "output_type": "stream",
     "text": [
      "                               AR - ARCH Model Results                                \n",
      "======================================================================================\n",
      "Dep. Variable:                        close   R-squared:          -152726008317400.781\n",
      "Mean Model:                              AR   Adj. R-squared:     -152735128647535.000\n",
      "Vol Model:                             ARCH   Log-Likelihood:             -1.89243e+06\n",
      "Distribution:      Standardized Student's t   AIC:                         3.78488e+06\n",
      "Method:                  Maximum Likelihood   BIC:                         3.78498e+06\n",
      "                                              No. Observations:                  50241\n",
      "Date:                      Sat, Jan 27 2018   Df Residuals:                      50230\n",
      "Time:                              22:53:17   Df Model:                             11\n",
      "                                   Mean Model                                  \n",
      "===============================================================================\n",
      "                  coef    std err          t      P>|t|        95.0% Conf. Int.\n",
      "-------------------------------------------------------------------------------\n",
      "Const      -3.0369e+05     52.732  -5759.151      0.000 [-3.038e+05,-3.036e+05]\n",
      "close[1]    3.0416e+04  5.094e+04      0.597      0.550  [-6.943e+04,1.303e+05]\n",
      "close[3]   -2.5069e+04  5.567e+04     -0.450      0.652  [-1.342e+05,8.405e+04]\n",
      "close[12]  -5.7608e+04  5.659e+04     -1.018      0.309  [-1.685e+05,5.330e+04]\n",
      "                               Volatility Model                              \n",
      "=============================================================================\n",
      "                 coef    std err          t      P>|t|       95.0% Conf. Int.\n",
      "-----------------------------------------------------------------------------\n",
      "omega          0.0000  5.399e-04      0.000      1.000 [-1.058e-03,1.058e-03]\n",
      "alpha[1]   1.6885e-03  1.617e-03      1.045      0.296 [-1.480e-03,4.857e-03]\n",
      "alpha[2]       0.1658      0.340      0.487      0.626      [ -0.501,  0.833]\n",
      "alpha[3]       0.7480      0.245      3.049  2.297e-03      [  0.267,  1.229]\n",
      "alpha[4]       0.0845      0.369      0.229      0.819      [ -0.638,  0.808]\n",
      "alpha[5]   1.6944e-03      0.468  3.622e-03      0.997      [ -0.915,  0.919]\n",
      "                              Distribution                              \n",
      "========================================================================\n",
      "                 coef    std err          t      P>|t|  95.0% Conf. Int.\n",
      "------------------------------------------------------------------------\n",
      "nu             2.2522  3.059e-04   7363.055      0.000 [  2.252,  2.253]\n",
      "========================================================================\n",
      "\n",
      "Covariance estimator: robust\n",
      "\n",
      "WARNING: The optimizer did not indicate successful convergence. The message was\n",
      "Positive directional derivative for linesearch. See convergence_flag.\n"
     ]
    }
   ],
   "source": [
    "\n",
    "from arch.univariate import StudentsT\n",
    "ar.distribution = StudentsT()\n",
    "res = ar.fit(update_freq=0, disp='off')\n",
    "print(res.summary())"
   ]
  },
  {
   "cell_type": "markdown",
   "metadata": {},
   "source": [
    "## ES (S&P 500 Futures)"
   ]
  },
  {
   "cell_type": "markdown",
   "metadata": {},
   "source": [
    "The next example uses ES 1 min data. Thee models are fit using alternative distributional assumptions. The results are printed, where we can see that the normal has a much lower log-likelihood than either the Standard Student's T or the Standardized Skew Student's T -- however, these two are fairly close. The closeness of the T and the Skew T indicate that returns are not heavily skewed."
   ]
  },
  {
   "cell_type": "code",
   "execution_count": 92,
   "metadata": {},
   "outputs": [
    {
     "name": "stdout",
     "output_type": "stream",
     "text": [
      "normal    180769.792743\n",
      "t         217681.664106\n",
      "skewt     217681.664106\n",
      "dtype: float64\n",
      "            normal         t     skewt\n",
      "alpha[1]  0.050000  0.050000  0.050000\n",
      "beta[1]   0.450000  0.450000  0.450000\n",
      "lambda         NaN       NaN  0.000000\n",
      "mu        0.000244  0.000235  0.000235\n",
      "nu             NaN  4.016278  4.016278\n",
      "omega     0.000225  0.000225  0.000225\n"
     ]
    },
    {
     "name": "stderr",
     "output_type": "stream",
     "text": [
      "/Users/hussainmohammadyousuf/anaconda/lib/python3.6/site-packages/arch/univariate/base.py:524: ConvergenceWarning: \n",
      "The optimizer returned code 4. The message is:\n",
      "Inequality constraints incompatible\n",
      "See scipy.optimize.fmin_slsqp for code meaning.\n",
      "\n",
      "  ConvergenceWarning)\n",
      "/Users/hussainmohammadyousuf/anaconda/lib/python3.6/site-packages/arch/univariate/base.py:524: ConvergenceWarning: \n",
      "The optimizer returned code 4. The message is:\n",
      "Inequality constraints incompatible\n",
      "See scipy.optimize.fmin_slsqp for code meaning.\n",
      "\n",
      "  ConvergenceWarning)\n"
     ]
    }
   ],
   "source": [
    "from collections import OrderedDict\n",
    "ES_input_data = pd.read_csv('dataset/ES_170508_180123_1min.csv')\n",
    "ES_returns = 100 * ES_input_data['close'].dropna().pct_change().dropna()\n",
    "res_normal = arch_model(ES_returns).fit(disp='off')\n",
    "res_t = arch_model(ES_returns, dist='t').fit(disp='off')\n",
    "res_skewt = arch_model(ES_returns, dist='skewt').fit(disp='off')\n",
    "lls = pd.Series(OrderedDict((('normal', res_normal.loglikelihood),\n",
    "                 ('t', res_t.loglikelihood),\n",
    "                 ('skewt', res_skewt.loglikelihood))))\n",
    "print(lls)\n",
    "params = pd.DataFrame(OrderedDict((('normal', res_normal.params),\n",
    "                 ('t', res_t.params),\n",
    "                 ('skewt', res_skewt.params))))\n",
    "print(params)"
   ]
  },
  {
   "cell_type": "markdown",
   "metadata": {},
   "source": [
    "The standardized residuals can be computed by dividing the residuals by the conditional volatility. These are plotted along with the (unstandardized, but scaled) residuals. The non-standardized residuals are more peaked in the center indicating that the distribution is somewhat more heavy tailed than that of the standardized residuals."
   ]
  },
  {
   "cell_type": "code",
   "execution_count": 93,
   "metadata": {},
   "outputs": [
    {
     "data": {
      "text/plain": [
       "<matplotlib.axes._subplots.AxesSubplot at 0x121e8d978>"
      ]
     },
     "execution_count": 93,
     "metadata": {},
     "output_type": "execute_result"
    },
    {
     "data": {
      "image/png": "[encoded data removed]",
      "text/plain": [
       "<matplotlib.figure.Figure at 0x11f46e400>"
      ]
     },
     "metadata": {},
     "output_type": "display_data"
    }
   ],
   "source": [
    "std_resid = res_normal.resid / res_normal.conditional_volatility\n",
    "unit_var_resid = res_normal.resid / res_normal.resid.std()\n",
    "df = pd.concat([std_resid, unit_var_resid],1)\n",
    "df.columns = ['Std Resids', 'Unit Variance Resids']\n",
    "df.plot(kind='kde', xlim=(-4,4))"
   ]
  },
  {
   "cell_type": "code",
   "execution_count": null,
   "metadata": {
    "collapsed": true
   },
   "outputs": [],
   "source": []
  }
 ],
 "metadata": {
  "kernelspec": {
   "display_name": "Python 3",
   "language": "python",
   "name": "python3"
  },
  "language_info": {
   "codemirror_mode": {
    "name": "ipython",
    "version": 3
   },
   "file_extension": ".py",
   "mimetype": "text/x-python",
   "name": "python",
   "nbconvert_exporter": "python",
   "pygments_lexer": "ipython3",
   "version": "3.6.1"
  }
 },
 "nbformat": 4,
 "nbformat_minor": 2
}
